{
  "nbformat": 4,
  "nbformat_minor": 0,
  "metadata": {
    "colab": {
      "name": "Lab2_FMML20210264.ipynb",
      "provenance": [],
      "collapsed_sections": [],
      "include_colab_link": true
    },
    "kernelspec": {
      "name": "python3",
      "display_name": "Python 3"
    },
    "language_info": {
      "name": "python"
    }
  },
  "cells": [
    {
      "cell_type": "markdown",
      "metadata": {
        "id": "view-in-github",
        "colab_type": "text"
      },
      "source": [
        "<a href=\"https://colab.research.google.com/github/pvnmahathi/FMML20210264-Labs/blob/main/Lab2_FMML20210264.ipynb\" target=\"_parent\"><img src=\"https://colab.research.google.com/assets/colab-badge.svg\" alt=\"Open In Colab\"/></a>"
      ]
    },
    {
      "cell_type": "markdown",
      "metadata": {
        "id": "3Eu9VZbF01eq"
      },
      "source": [
        "# Machine learning terms and metrics\n",
        "\n",
        "FMML Module 1, Lab 2<br>\n",
        " Module Coordinator: Thrupthi Ann John thrupthi.ann@research.iiit.ac.in <br>\n",
        " Release date: 11 October 2021 Monday <br>\n",
        "\n",
        " In this lab, we will show a part of the ML pipeline by extracting features, training and testing\n",
        "\n",
        " ```\n",
        " This is a slightly changed version with instructions for Hinton House students\n",
        " ```"
      ]
    },
    {
      "cell_type": "markdown",
      "metadata": {
        "id": "2Zdr2f6p1h2u"
      },
      "source": [
        "---\n",
        "What needs to be done by you in this notebook:\n",
        "1. Go through the code and understand whatever it wants to show.\n",
        "2. The evaluation metrics or parts are divided as question sections. You may be\n",
        "required to either code, write in markdown, refactor to get points in those \n",
        "sections. The intention is just that you are able to make most out of the course so don't stress over marks.\n",
        "---\n",
        "\n",
        "\n",
        "### Question Section 1 (Refactor)\n",
        "(You are recommended to bother about this once you are done with other things)\n",
        "\n",
        "Style guide for reference: https://google.github.io/styleguide/pyguide.html\n",
        "\n",
        "\n",
        "Refactor the code and ensure the following:\n",
        "- Functions have good generalized parameter names, named parameters also work.\n",
        "- Imporant Functions have descriptive and concise docstring so that we are able to keep track of our functions even when the size of the code increases.\n",
        "\n"
      ]
    },
    {
      "cell_type": "markdown",
      "metadata": {
        "id": "gQVXL6gkbaf1"
      },
      "source": [
        "1. Made sure that functions have generalized and readable parameter names and added a descriptive docstring to each of the important functions used in the notebook"
      ]
    },
    {
      "cell_type": "code",
      "metadata": {
        "id": "yrPWt7zScJC8"
      },
      "source": [
        "rng = np.random.default_rng(seed=0)"
      ],
      "execution_count": null,
      "outputs": []
    },
    {
      "cell_type": "code",
      "metadata": {
        "colab": {
          "base_uri": "https://localhost:8080/"
        },
        "id": "v97yt-FGcdcj",
        "outputId": "e252cfee-f917-45eb-b967-fd64d4885512"
      },
      "source": [
        "rng.random(size=(5, 2)) * 10 +5"
      ],
      "execution_count": null,
      "outputs": [
        {
          "output_type": "execute_result",
          "data": {
            "text/plain": [
              "array([[ 6.24283276, 11.70624415],\n",
              "       [11.47189512, 11.15385111],\n",
              "       [ 8.83677554, 14.97209936],\n",
              "       [14.80835339, 11.85541984],\n",
              "       [11.50459276, 11.88446731]])"
            ]
          },
          "metadata": {},
          "execution_count": 42
        }
      ]
    },
    {
      "cell_type": "code",
      "metadata": {
        "id": "8qBvyEem0vLi"
      },
      "source": [
        "##Importing all the essential libraries\n",
        "import matplotlib.pyplot as plt\n",
        "import numpy as np\n",
        "from sklearn import datasets\n",
        "# set randomseed\n",
        "rng = np.random.default_rng(seed=42)"
      ],
      "execution_count": null,
      "outputs": []
    },
    {
      "cell_type": "markdown",
      "metadata": {
        "id": "u3t59g5s1HfC"
      },
      "source": [
        "In this lab, we will use the California Housing dataset. There are 20640 samples, each with 8 attributes like income of the block, age of the houses per district etc. The task is to predict the cost of the houses per district. \n",
        "\n",
        "Let us download and examine the dataset. "
      ]
    },
    {
      "cell_type": "code",
      "metadata": {
        "id": "8LpqjN991GGJ",
        "colab": {
          "base_uri": "https://localhost:8080/"
        },
        "outputId": "e4176ef6-e234-47ff-f85a-e513e9643e8c"
      },
      "source": [
        " dataset =  datasets.fetch_california_housing()\n",
        " # print(dataset.DESCR)  # uncomment this if you want to know more about this dataset\n",
        " # print(dataset.keys())  # if you want to know what else is there in this dataset\n",
        " dataset.target = dataset.target.astype(np.int) # so that we can classify\n",
        " print(dataset.data.shape)\n",
        " print(dataset.target.shape)"
      ],
      "execution_count": null,
      "outputs": [
        {
          "output_type": "stream",
          "name": "stderr",
          "text": [
            "Downloading Cal. housing from https://ndownloader.figshare.com/files/5976036 to /root/scikit_learn_data\n"
          ]
        },
        {
          "output_type": "stream",
          "name": "stdout",
          "text": [
            "(20640, 8)\n",
            "(20640,)\n"
          ]
        }
      ]
    },
    {
      "cell_type": "code",
      "metadata": {
        "colab": {
          "base_uri": "https://localhost:8080/"
        },
        "id": "s2NIoBluVFLe",
        "outputId": "dc0ae5d6-776a-496d-96b5-b456d0ef89fd"
      },
      "source": [
        "dataset.target[6]"
      ],
      "execution_count": null,
      "outputs": [
        {
          "output_type": "execute_result",
          "data": {
            "text/plain": [
              "2"
            ]
          },
          "metadata": {},
          "execution_count": 3
        }
      ]
    },
    {
      "cell_type": "markdown",
      "metadata": {
        "id": "iNx4174W5xRg"
      },
      "source": [
        "Here is a function for calculating the 1-nearest neighbours"
      ]
    },
    {
      "cell_type": "code",
      "metadata": {
        "id": "t39kJDHsbgQP"
      },
      "source": [
        "a = np.array([[1, 2, 3, 4, 5]])\n",
        "?a.sum()"
      ],
      "execution_count": null,
      "outputs": []
    },
    {
      "cell_type": "code",
      "metadata": {
        "id": "07zpydQj1hIQ"
      },
      "source": [
        "def NN1(traindata, trainlabel, query):\n",
        "  \"\"\"\n",
        "  Find the nearest point in the dataset,\n",
        "  Args:\n",
        "    traindata : Dataset x values\n",
        "    trainlabel : Class of the dataset values\n",
        "    query : input to predict about\n",
        "\n",
        "  Returns:\n",
        "    label of the datapoint closest to query in the dataset\n",
        "  \"\"\"\n",
        "  diff  = traindata - query  # find the difference between features. Numpy automatically takes care of the size here \n",
        "  sq = diff*diff # square the differences\n",
        "  dist = sq.sum(1) # add up the squares\n",
        "  label = trainlabel[np.argmin(dist)] # our predicted label is the label of the training data which has the least distance from the query\n",
        "  return label\n",
        "\n",
        "def NN(traindata, trainlabel, testdata):\n",
        "  # we will run nearest neighbour for each sample in the test data \n",
        "  # and collect the predicted classes in an array using list comprehension\n",
        "  predlabel = np.array([NN1(traindata, trainlabel, i) for i in testdata])\n",
        "  return predlabel\n"
      ],
      "execution_count": null,
      "outputs": []
    },
    {
      "cell_type": "code",
      "metadata": {
        "id": "mKRab-KgHMnx"
      },
      "source": [
        "?NN1()"
      ],
      "execution_count": null,
      "outputs": []
    },
    {
      "cell_type": "markdown",
      "metadata": {
        "id": "03JktkfIGaje"
      },
      "source": [
        "We will also define a 'random classifier', which randomly allots labels to each sample"
      ]
    },
    {
      "cell_type": "code",
      "metadata": {
        "id": "fogWAtjyGhAH"
      },
      "source": [
        "def RandomClassifier(traindata, trainlabel, testdata):\n",
        "  # in reality, we don't need these arguments\n",
        "  \"\"\"\n",
        "  Randomly assigns a class label to input query\n",
        "  Args:\n",
        "    traindata : Dataset x values\n",
        "    trainlabel : Class of the dataset values\n",
        "    query : input to predict about\n",
        "\n",
        "  Returns:\n",
        "    random class label\n",
        "  \"\"\"\n",
        "\n",
        "  classes = np.unique(trainlabel)\n",
        "  rints = rng.integers(low=0, high=len(classes), size=len(testdata))\n",
        "  predlabel = classes[rints]\n",
        "  return predlabel"
      ],
      "execution_count": null,
      "outputs": []
    },
    {
      "cell_type": "markdown",
      "metadata": {
        "id": "1Hjf1KHs7fU5"
      },
      "source": [
        "Let us define a metric 'Accuracy' to see how good our learning algorithm is. Accuracy is the ratio of the number of correctly classified samples to the total number of samples. The higher the accuracy, the better the algorithm. "
      ]
    },
    {
      "cell_type": "code",
      "metadata": {
        "id": "ouuCqWU07bz-"
      },
      "source": [
        "def Accuracy(gtlabel, predlabel):\n",
        "  \"\"\"\n",
        "  Calculates the accuracy of the learning algorithm\n",
        "  Args:\n",
        "    gtlabel: Groung Truth label for given test data\n",
        "    predlabel: Label predicted by the learning algorithm used\n",
        "\n",
        "  Returns:\n",
        "    Accuracy of the learning algorith used\n",
        "  \"\"\"\n",
        "  assert len(gtlabel)==len(predlabel), \"Length of the groundtruth labels and predicted labels should be the same\"\n",
        "  correct = (gtlabel==predlabel).sum() # count the number of times the groundtruth label is equal to the predicted label.\n",
        "  return correct/len(gtlabel)"
      ],
      "execution_count": null,
      "outputs": []
    },
    {
      "cell_type": "markdown",
      "metadata": {
        "id": "4vJFwBFa9Klw"
      },
      "source": [
        "Let us make a function to split the dataset with the desired probability."
      ]
    },
    {
      "cell_type": "code",
      "metadata": {
        "id": "Ko0VzpSM2Tdi"
      },
      "source": [
        "def split(data, label, percent):\n",
        "  \"\"\"\n",
        "  Splits the dataset into training and validation sets\n",
        "  Args:\n",
        "    data : Dataset x values on which we should perform the split\n",
        "    label : Class of the dataset values which should be split\n",
        "    percent : Percentage of the data to be reserved for training set\n",
        "\n",
        "  Returns:\n",
        "    Data will be split into two parts and those parts will be returned\n",
        "  \"\"\"\n",
        "  # generate a random number for each sample\n",
        "  rnd = rng.random(len(label))\n",
        "  split1 = rnd<percent\n",
        "  split2 = rnd>=percent\n",
        "  split1data = data[split1,:]\n",
        "  split1label = label[split1]\n",
        "  split2data = data[split2,:]\n",
        "  split2label = label[split2]\n",
        "  return split1data, split1label, split2data, split2label"
      ],
      "execution_count": null,
      "outputs": []
    },
    {
      "cell_type": "markdown",
      "metadata": {
        "id": "AcK3LEAJ_LGC"
      },
      "source": [
        "We will reserve 20% of our dataset as the test set. We will not change this portion throughout our experiments"
      ]
    },
    {
      "cell_type": "code",
      "metadata": {
        "id": "bBZkHBLJ1iU-",
        "colab": {
          "base_uri": "https://localhost:8080/"
        },
        "outputId": "617a7d0f-82be-4184-fb3f-b75b6b9f2ef3"
      },
      "source": [
        "testdata, testlabel, alltraindata, alltrainlabel = split(dataset.data, dataset.target, 20/100)\n",
        "print('Number of test samples = ', len(testlabel))\n",
        "print('Number of other samples = ', len(alltrainlabel))\n",
        "print('Percent of test data = ', len(testlabel)*100/len(dataset.target),'%')"
      ],
      "execution_count": null,
      "outputs": [
        {
          "output_type": "stream",
          "name": "stdout",
          "text": [
            "Number of test samples =  4144\n",
            "Number of other samples =  16496\n",
            "Percent of test data =  20.07751937984496 %\n"
          ]
        }
      ]
    },
    {
      "cell_type": "markdown",
      "metadata": {
        "id": "a6Ss0Z6IAGNV"
      },
      "source": [
        "## Experiments with splits\n",
        "\n",
        "Let us reserve some of our train data as a validation set"
      ]
    },
    {
      "cell_type": "code",
      "metadata": {
        "id": "WFew2iry_7W7",
        "colab": {
          "base_uri": "https://localhost:8080/"
        },
        "outputId": "15ebb364-e8f3-4a39-d796-e0d812f04908"
      },
      "source": [
        "traindata, trainlabel, valdata, vallabel = split(alltraindata, alltrainlabel, 75/100)\n",
        "print('Number of train samples = ', len(traindata))\n",
        "print('Number of validation samples = ', len(trainlabel))\n",
        "print('Percent of validation data = ', len(valdata)*100/len(alltraindata),'%')  #gives the percent of validation data from the train split chosen"
      ],
      "execution_count": null,
      "outputs": [
        {
          "output_type": "stream",
          "name": "stdout",
          "text": [
            "Number of train samples =  12368\n",
            "Number of validation samples =  12368\n",
            "Percent of validation data =  25.024248302618815 %\n"
          ]
        }
      ]
    },
    {
      "cell_type": "markdown",
      "metadata": {
        "id": "60hiu4clFN1i"
      },
      "source": [
        "What is the accuracy of our classifiers on the train dataset?"
      ]
    },
    {
      "cell_type": "code",
      "metadata": {
        "id": "DBlZDTHUFTZx",
        "colab": {
          "base_uri": "https://localhost:8080/"
        },
        "outputId": "efd07875-cbe5-4b54-9df5-b09f8ac7c0a1"
      },
      "source": [
        "trainpred = NN(traindata, trainlabel, traindata)\n",
        "trainAccuracy = Accuracy(trainlabel, trainpred)\n",
        "print(\"Train accuracy using nearest neighbour is \", trainAccuracy)\n",
        "\n",
        "trainpred = RandomClassifier(traindata, trainlabel, traindata)\n",
        "trainAccuracy = Accuracy(trainlabel, trainpred)\n",
        "print(\"Train accuracy using random classifier is \", trainAccuracy)"
      ],
      "execution_count": null,
      "outputs": [
        {
          "output_type": "stream",
          "name": "stdout",
          "text": [
            "Train accuracy using nearest neighbour is  1.0\n",
            "Train accuracy using random classifier is  0.164375808538163\n"
          ]
        }
      ]
    },
    {
      "cell_type": "markdown",
      "metadata": {
        "id": "7h08-9gJDtSy"
      },
      "source": [
        "For nearest neighbour, the train accuracy is always 1. The accuracy of the random classifier is close to 1/(number of classes) which is 0.1666 in our case.\n",
        "\n",
        "Let us predict the labels for our validation set and get the accuracy"
      ]
    },
    {
      "cell_type": "code",
      "metadata": {
        "id": "4h7bXoW_2H3v",
        "colab": {
          "base_uri": "https://localhost:8080/"
        },
        "outputId": "518c087d-169f-44d3-9542-138fc7d6599a"
      },
      "source": [
        "valpred = NN(traindata, trainlabel, valdata)\n",
        "valAccuracy = Accuracy(vallabel, valpred)\n",
        "print(\"Validation accuracy using nearest neighbour is \", valAccuracy)\n",
        "\n",
        "valpred = RandomClassifier(traindata, trainlabel, valdata)\n",
        "valAccuracy = Accuracy(vallabel, valpred)\n",
        "print(\"Validation accuracy using random classifier is \", valAccuracy)"
      ],
      "execution_count": null,
      "outputs": [
        {
          "output_type": "stream",
          "name": "stdout",
          "text": [
            "Validation accuracy using nearest neighbour is  0.34108527131782945\n",
            "Validation accuracy using random classifier is  0.1688468992248062\n"
          ]
        }
      ]
    },
    {
      "cell_type": "markdown",
      "metadata": {
        "id": "py9bLguFEjfg"
      },
      "source": [
        "Validation accuracy of nearest neighbour is considerably less than its train accuracy while the validation accuracy of random classifier is the same. However, the validation accuracy of nearest neighbour is twice that of the random classifier. \n",
        "\n",
        "Now let us try another random split and check the validation accuracy"
      ]
    },
    {
      "cell_type": "code",
      "metadata": {
        "id": "ujm3cyYzEntE",
        "colab": {
          "base_uri": "https://localhost:8080/"
        },
        "outputId": "747a28ca-9062-43a4-d384-2f499a710162"
      },
      "source": [
        "traindata, trainlabel, valdata, vallabel = split(alltraindata, alltrainlabel, 50/100)\n",
        "valpred = NN(traindata, trainlabel, valdata)\n",
        "valAccuracy = Accuracy(vallabel, valpred)\n",
        "print(\"Validation accuracy of nearest neighbour is \", valAccuracy)"
      ],
      "execution_count": null,
      "outputs": [
        {
          "output_type": "stream",
          "name": "stdout",
          "text": [
            "Validation accuracy of nearest neighbour is  0.32658042470100074\n"
          ]
        }
      ]
    },
    {
      "cell_type": "markdown",
      "metadata": {
        "id": "QT_k2WISVGO9"
      },
      "source": [
        "Plot describing variation of validation accuracy with increase in size of validation set in Nearest Neighbor algorithm Plot-1"
      ]
    },
    {
      "cell_type": "code",
      "metadata": {
        "id": "ndQ-cIWZbZq9",
        "colab": {
          "base_uri": "https://localhost:8080/",
          "height": 295
        },
        "outputId": "7ff46b1c-e2b5-46e8-da93-6e017951f9f8"
      },
      "source": [
        "l_p=[20, 30, 40, 50, 60, 70, 75, 80, 85, 90, 95, 96, 97, 98, 99, 99.1, 99.9]\n",
        "l = [0.32908318154219796, 0.3394023352463883, 0.33212231304874357, 0.32643193652367963, 0.32220873786407767, 0.3200724887814981, 0.307504873294347, 0.3090494296577947, 0.29966378138636524, 0.29506214309707757, 0.2861418927525156, 0.2773713420787084, 0.2840887777430447, 0.26918557912312163, 0.24391437308868502, 0.2725660469667319, 0.20452752321417733]\n",
        "plt.title(\"% Validation data Vs Validation accuracy Nearest Neighbor\")\n",
        "plt.plot(l_p, l)\n",
        "plt.xlabel('percent of validation data')\n",
        "plt.ylabel('Validation Accuracy')\n",
        "plt.show()"
      ],
      "execution_count": null,
      "outputs": [
        {
          "output_type": "display_data",
          "data": {
            "image/png": "[encoded data removed]",
            "text/plain": [
              "<Figure size 432x288 with 1 Axes>"
            ]
          },
          "metadata": {
            "needs_background": "light"
          }
        }
      ]
    },
    {
      "cell_type": "code",
      "metadata": {
        "id": "uV8te_7Fd0DZ",
        "colab": {
          "base_uri": "https://localhost:8080/"
        },
        "outputId": "2500a341-4889-40d7-a966-83ddb87d7787"
      },
      "source": [
        "traindata, trainlabel, valdata, vallabel = split(alltraindata, alltrainlabel, 50/100)\n",
        "valpred = RandomClassifier(traindata, trainlabel, valdata)\n",
        "valAccuracy = Accuracy(vallabel, valpred)\n",
        "print(\"Validation accuracy using random classifier is \", valAccuracy)"
      ],
      "execution_count": null,
      "outputs": [
        {
          "output_type": "stream",
          "name": "stdout",
          "text": [
            "Validation accuracy using random classifier is  0.16951826234680256\n"
          ]
        }
      ]
    },
    {
      "cell_type": "code",
      "metadata": {
        "id": "rZ9fhrXxqr3Q",
        "colab": {
          "base_uri": "https://localhost:8080/"
        },
        "outputId": "058bf658-ac4d-4f4a-ce8c-7e7d8606f4c9"
      },
      "source": [
        "testpred = RandomClassifier(alltraindata, alltrainlabel, testdata)\n",
        "testAccuracy = Accuracy(testlabel, testpred)\n",
        "print('Test accuracy is ', testAccuracy)"
      ],
      "execution_count": null,
      "outputs": [
        {
          "output_type": "stream",
          "name": "stdout",
          "text": [
            "Test accuracy is  0.16361003861003862\n"
          ]
        }
      ]
    },
    {
      "cell_type": "markdown",
      "metadata": {
        "id": "gJgatEfRVSGG"
      },
      "source": [
        "Plot describing variation of validation accuracy with increase in size of validation set in Random Classifier Plot-2"
      ]
    },
    {
      "cell_type": "code",
      "metadata": {
        "id": "RjAkTtcgd7PP",
        "colab": {
          "base_uri": "https://localhost:8080/",
          "height": 295
        },
        "outputId": "e0f81af9-0cc3-45b0-e460-4dd472a1e46e"
      },
      "source": [
        "l_p=[20, 30, 40, 50, 60, 70, 75, 80, 85, 90, 95, 96, 97, 98, 99, 99.1, 99.9]\n",
        "l = [0.15539, 0.16522, 0.167272, 0.16058,0.16646, 0.16661, 0.17128, 0.16311, 0.16481, 0.16316,0.16788, 0.16711, 0.16564,  0.16479,0.16929,0.16706,0.16792]\n",
        "\n",
        "plt.plot(l_p, l)\n",
        "plt.title(\"% Validation data Vs Validation accuracy Random Classifier\")\n",
        "plt.xlabel('percent of validation data')\n",
        "plt.ylabel('Validation Accuracy')\n",
        "#plt.ylim(0.16, 0.17)\n",
        "plt.yticks([0.11, 0.12, 0.13,0.14, 0.15, 0.16, 0.17, 0.18])\n",
        "plt.show()"
      ],
      "execution_count": null,
      "outputs": [
        {
          "output_type": "display_data",
          "data": {
            "image/png": "[encoded data removed]",
            "text/plain": [
              "<Figure size 432x288 with 1 Axes>"
            ]
          },
          "metadata": {
            "needs_background": "light"
          }
        }
      ]
    },
    {
      "cell_type": "markdown",
      "metadata": {
        "id": "oSOx7U83EKie"
      },
      "source": [
        "You can run the above cell multiple times to try with different random splits. \n",
        "We notice that the accuracy is different for each run, but close together. \n",
        "\n",
        "Now let us compare it with the accuracy we get on the test dataset. "
      ]
    },
    {
      "cell_type": "code",
      "metadata": {
        "id": "PNEZ5ToYBEDW",
        "colab": {
          "base_uri": "https://localhost:8080/"
        },
        "outputId": "38f19138-2604-49bb-99ed-d25173e7703c"
      },
      "source": [
        "testpred = NN(alltraindata, alltrainlabel, testdata)\n",
        "testAccuracy = Accuracy(testlabel, testpred)\n",
        "print('Test accuracy is ', testAccuracy)"
      ],
      "execution_count": null,
      "outputs": [
        {
          "output_type": "stream",
          "name": "stdout",
          "text": [
            "Test accuracy is  0.34917953667953666\n"
          ]
        }
      ]
    },
    {
      "cell_type": "markdown",
      "metadata": {
        "id": "w3dGD531K3gH"
      },
      "source": [
        "### Question Set 2: Try it out for yourself and answer:\n",
        "1. How is the accuracy of the validation set affected if we increase the percentage of validation set? What happens when we reduce it?\n",
        "2. How does the size of the train and validation set affect how well we can predict the accuracy on the test set using the validation set?\n",
        "3. What do you think is a good percentage to reserve for the validation set so that thest two factors are balanced? \n",
        "\n",
        "Answer for both nearest neighbour and random classifier. You can note down the values for your experiments and plot a graph using  <a href=https://matplotlib.org/stable/gallery/lines_bars_and_markers/step_demo.html#sphx-glr-gallery-lines-bars-and-markers-step-demo-py>plt.plot<href>. Check also for extreme values for splits, like 99.9% or 0.1%"
      ]
    },
    {
      "cell_type": "markdown",
      "metadata": {
        "id": "xaxhwmVxVecR"
      },
      "source": [
        "1. If we increase the percentage of validation set, the validation accuracy decreases in case of Nearest Neighbor algorithm. It can be depicted in the Plot-1 shown in the above part.\n",
        "\n",
        "    For Randomclassifier the validation accuracy more or less remains same as (1/number of classes) which is equal to 0.1667 in this case. It is depicted in te Plot-2 shown in the above part.\n",
        "\n",
        "    All the ranges of splits were experimented including the extreme values like 99.9% and it was plotted"
      ]
    },
    {
      "cell_type": "markdown",
      "metadata": {
        "id": "QbzLU_cbWXNQ"
      },
      "source": [
        "2. As we increase the size of validation set, it is observed that the validation accuracy decreases and the test accuracy remained more or less equal to 34.9%. It can be seen that the validation accuracy and training accuracy are more closer at a training split of nearly 70% in case of both Nearest Neighbor as well as Random classifier."
      ]
    },
    {
      "cell_type": "markdown",
      "metadata": {
        "id": "blfh6qLfW9Ry"
      },
      "source": [
        "3. The good percentage split for training and validation sets would be (75% and 25%) or (70% and 30%) respectively according values recorded while trying out various splits."
      ]
    },
    {
      "cell_type": "markdown",
      "metadata": {
        "id": "PnYvkAZLQY7h"
      },
      "source": [
        "## Multiple Splits\n",
        "\n",
        "One way to get more accurate estimates for the test accuracy is by using <b>crossvalidation</b>. Here, we will try a simple version, where we do multiple train/val splits and take the average of validation accuracies as the test accuracy estimation. Here is a function for doing this. Note that this function will take a long time to execute. "
      ]
    },
    {
      "cell_type": "code",
      "metadata": {
        "id": "E4nGCUQXBTzo"
      },
      "source": [
        "# you can use this function for random classifier also\n",
        "def AverageAccuracy(alldata, alllabel, splitpercent, iterations, classifier=NN):\n",
        "  \"\"\"\n",
        "  Calculates the average of validation accuracies across multiple train/val splits\n",
        "  Args:\n",
        "    alldata : Dataset x values\n",
        "    alllabel : Class of the dataset values\n",
        "    splitpercent: Percentage reserved for training set\n",
        "    iterations: Number of iterations to be performed\n",
        "    Classifier: Classifier used. Default calssifier used is Nearest Neighbor classifier\n",
        "\n",
        "  Returns:\n",
        "    Average of validation accuracies across multiple splits\n",
        "  \"\"\"\n",
        "  accuracy = 0\n",
        "  for ii in range(iterations):\n",
        "    traindata, trainlabel, valdata, vallabel = split(alldata, alllabel, splitpercent)\n",
        "    valpred = classifier(traindata, trainlabel, valdata)\n",
        "    accuracy += Accuracy(vallabel, valpred)\n",
        "  return accuracy/iterations # average of all accuracies"
      ],
      "execution_count": null,
      "outputs": []
    },
    {
      "cell_type": "code",
      "metadata": {
        "id": "H3qtNar7Bbik",
        "colab": {
          "base_uri": "https://localhost:8080/"
        },
        "outputId": "3ccbdbfe-e931-4e9d-985b-2adc19d287c9"
      },
      "source": [
        "print('Average validation accuracy is ', AverageAccuracy(alltraindata, alltrainlabel, 75/100, 30, classifier=NN))\n",
        "testpred = NN(alltraindata, alltrainlabel, testdata)\n",
        "print('test accuracy is ',Accuracy(testlabel, testpred) )"
      ],
      "execution_count": null,
      "outputs": [
        {
          "output_type": "stream",
          "name": "stdout",
          "text": [
            "Average validation accuracy is  0.34091762647395085\n",
            "test accuracy is  0.34917953667953666\n"
          ]
        }
      ]
    },
    {
      "cell_type": "markdown",
      "metadata": {
        "id": "33GIn4x5VH-d"
      },
      "source": [
        "This is a very simple way of doing cross-validation. There are many well-known algorithms for cross-validation, like k-fold cross-validation, leave-one-out etc. This will be covered in detail in a later module. For more information about cross-validation, check <a href=https://en.wikipedia.org/wiki/Cross-validation_(statistics)>Cross-validatioin (Wikipedia)</a>\n",
        "\n",
        "### Questions Set 3:\n",
        "1. Does averaging the validation accuracy across multiple splits give more consistent results?\n",
        "2. Does it give more accurate estimate of test accuracy?\n",
        "3. What is the effect of the number of iterations on the estimate? Do we get a better estimate with higher iterations?\n",
        "4. Consider the results you got for the previous questions. Can we deal with a very small train dataset or validation dataset by increasing the iterations?\n"
      ]
    },
    {
      "cell_type": "markdown",
      "metadata": {
        "id": "y8KDyp-iT2Ar"
      },
      "source": [
        "1. Yes, it gives more consistent results on trying out various splits. I have tried out various splits and found out that it gives more consistent results."
      ]
    },
    {
      "cell_type": "markdown",
      "metadata": {
        "id": "Qhn2usYTTVT1"
      },
      "source": [
        "2. Yes, it does give more accurate estimate of test accuracy. It can be observed by trying out various splits and we can observe that on increasing the training split, the estimate becomes more accurate."
      ]
    },
    {
      "cell_type": "markdown",
      "metadata": {
        "id": "9qQ4PbEmOleG"
      },
      "source": [
        "3. Increasing the number of iterations does not seem to effect the estimate. The estimate remains almost consistent on increasing the number of iterations\\\n",
        "  The average validation accuracy remained around 34% and test accuracy remained around 34.9%"
      ]
    },
    {
      "cell_type": "markdown",
      "metadata": {
        "id": "RIn_XMVcR7__"
      },
      "source": [
        "4. As seen above, the number of iterations does not affect the estimate in a significant way. Hence, according to me even on small dataset increasing the number of iterations doesn't show a significant effect"
      ]
    },
    {
      "cell_type": "code",
      "metadata": {
        "id": "1WileBUqC404"
      },
      "source": [
        ""
      ],
      "execution_count": null,
      "outputs": []
    }
  ]
}